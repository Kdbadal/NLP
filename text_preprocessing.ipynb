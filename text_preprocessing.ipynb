{
  "nbformat": 4,
  "nbformat_minor": 0,
  "metadata": {
    "colab": {
      "provenance": []
    },
    "kernelspec": {
      "name": "python3",
      "display_name": "Python 3"
    },
    "language_info": {
      "name": "python"
    }
  },
  "cells": [
    {
      "cell_type": "code",
      "source": [
        "from google.colab import drive"
      ],
      "metadata": {
        "id": "rdaGp3mO79EO"
      },
      "execution_count": 205,
      "outputs": []
    },
    {
      "cell_type": "code",
      "source": [
        "import pandas as pd\n",
        "import numpy as np\n",
        "\n",
        "df = pd.read_csv('/content/drive/MyDrive/Datasets/train.csv')"
      ],
      "metadata": {
        "id": "XW_iwtQ18o1T"
      },
      "execution_count": 206,
      "outputs": []
    },
    {
      "cell_type": "code",
      "source": [
        "df.head()"
      ],
      "metadata": {
        "id": "Vodpltr_87cS",
        "colab": {
          "base_uri": "https://localhost:8080/",
          "height": 206
        },
        "outputId": "4eaba0ad-1470-4588-baca-3a919a3d5b5d"
      },
      "execution_count": 207,
      "outputs": [
        {
          "output_type": "execute_result",
          "data": {
            "text/plain": [
              "   count  hate_speech_count  offensive_language_count  neither_count  class  \\\n",
              "0      3                  0                         0              3      2   \n",
              "1      3                  0                         3              0      1   \n",
              "2      3                  0                         3              0      1   \n",
              "3      3                  0                         2              1      1   \n",
              "4      6                  0                         6              0      1   \n",
              "\n",
              "                                               tweet  \n",
              "0  !!! RT @mayasolovely: As a woman you shouldn't...  \n",
              "1  !!!!! RT @mleew17: boy dats cold...tyga dwn ba...  \n",
              "2  !!!!!!! RT @UrKindOfBrand Dawg!!!! RT @80sbaby...  \n",
              "3  !!!!!!!!! RT @C_G_Anderson: @viva_based she lo...  \n",
              "4  !!!!!!!!!!!!! RT @ShenikaRoberts: The shit you...  "
            ],
            "text/html": [
              "\n",
              "  <div id=\"df-d511c379-1abb-42fc-be72-a5f75bd073a7\" class=\"colab-df-container\">\n",
              "    <div>\n",
              "<style scoped>\n",
              "    .dataframe tbody tr th:only-of-type {\n",
              "        vertical-align: middle;\n",
              "    }\n",
              "\n",
              "    .dataframe tbody tr th {\n",
              "        vertical-align: top;\n",
              "    }\n",
              "\n",
              "    .dataframe thead th {\n",
              "        text-align: right;\n",
              "    }\n",
              "</style>\n",
              "<table border=\"1\" class=\"dataframe\">\n",
              "  <thead>\n",
              "    <tr style=\"text-align: right;\">\n",
              "      <th></th>\n",
              "      <th>count</th>\n",
              "      <th>hate_speech_count</th>\n",
              "      <th>offensive_language_count</th>\n",
              "      <th>neither_count</th>\n",
              "      <th>class</th>\n",
              "      <th>tweet</th>\n",
              "    </tr>\n",
              "  </thead>\n",
              "  <tbody>\n",
              "    <tr>\n",
              "      <th>0</th>\n",
              "      <td>3</td>\n",
              "      <td>0</td>\n",
              "      <td>0</td>\n",
              "      <td>3</td>\n",
              "      <td>2</td>\n",
              "      <td>!!! RT @mayasolovely: As a woman you shouldn't...</td>\n",
              "    </tr>\n",
              "    <tr>\n",
              "      <th>1</th>\n",
              "      <td>3</td>\n",
              "      <td>0</td>\n",
              "      <td>3</td>\n",
              "      <td>0</td>\n",
              "      <td>1</td>\n",
              "      <td>!!!!! RT @mleew17: boy dats cold...tyga dwn ba...</td>\n",
              "    </tr>\n",
              "    <tr>\n",
              "      <th>2</th>\n",
              "      <td>3</td>\n",
              "      <td>0</td>\n",
              "      <td>3</td>\n",
              "      <td>0</td>\n",
              "      <td>1</td>\n",
              "      <td>!!!!!!! RT @UrKindOfBrand Dawg!!!! RT @80sbaby...</td>\n",
              "    </tr>\n",
              "    <tr>\n",
              "      <th>3</th>\n",
              "      <td>3</td>\n",
              "      <td>0</td>\n",
              "      <td>2</td>\n",
              "      <td>1</td>\n",
              "      <td>1</td>\n",
              "      <td>!!!!!!!!! RT @C_G_Anderson: @viva_based she lo...</td>\n",
              "    </tr>\n",
              "    <tr>\n",
              "      <th>4</th>\n",
              "      <td>6</td>\n",
              "      <td>0</td>\n",
              "      <td>6</td>\n",
              "      <td>0</td>\n",
              "      <td>1</td>\n",
              "      <td>!!!!!!!!!!!!! RT @ShenikaRoberts: The shit you...</td>\n",
              "    </tr>\n",
              "  </tbody>\n",
              "</table>\n",
              "</div>\n",
              "    <div class=\"colab-df-buttons\">\n",
              "\n",
              "  <div class=\"colab-df-container\">\n",
              "    <button class=\"colab-df-convert\" onclick=\"convertToInteractive('df-d511c379-1abb-42fc-be72-a5f75bd073a7')\"\n",
              "            title=\"Convert this dataframe to an interactive table.\"\n",
              "            style=\"display:none;\">\n",
              "\n",
              "  <svg xmlns=\"http://www.w3.org/2000/svg\" height=\"24px\" viewBox=\"0 -960 960 960\">\n",
              "    <path d=\"M120-120v-720h720v720H120Zm60-500h600v-160H180v160Zm220 220h160v-160H400v160Zm0 220h160v-160H400v160ZM180-400h160v-160H180v160Zm440 0h160v-160H620v160ZM180-180h160v-160H180v160Zm440 0h160v-160H620v160Z\"/>\n",
              "  </svg>\n",
              "    </button>\n",
              "\n",
              "  <style>\n",
              "    .colab-df-container {\n",
              "      display:flex;\n",
              "      gap: 12px;\n",
              "    }\n",
              "\n",
              "    .colab-df-convert {\n",
              "      background-color: #E8F0FE;\n",
              "      border: none;\n",
              "      border-radius: 50%;\n",
              "      cursor: pointer;\n",
              "      display: none;\n",
              "      fill: #1967D2;\n",
              "      height: 32px;\n",
              "      padding: 0 0 0 0;\n",
              "      width: 32px;\n",
              "    }\n",
              "\n",
              "    .colab-df-convert:hover {\n",
              "      background-color: #E2EBFA;\n",
              "      box-shadow: 0px 1px 2px rgba(60, 64, 67, 0.3), 0px 1px 3px 1px rgba(60, 64, 67, 0.15);\n",
              "      fill: #174EA6;\n",
              "    }\n",
              "\n",
              "    .colab-df-buttons div {\n",
              "      margin-bottom: 4px;\n",
              "    }\n",
              "\n",
              "    [theme=dark] .colab-df-convert {\n",
              "      background-color: #3B4455;\n",
              "      fill: #D2E3FC;\n",
              "    }\n",
              "\n",
              "    [theme=dark] .colab-df-convert:hover {\n",
              "      background-color: #434B5C;\n",
              "      box-shadow: 0px 1px 3px 1px rgba(0, 0, 0, 0.15);\n",
              "      filter: drop-shadow(0px 1px 2px rgba(0, 0, 0, 0.3));\n",
              "      fill: #FFFFFF;\n",
              "    }\n",
              "  </style>\n",
              "\n",
              "    <script>\n",
              "      const buttonEl =\n",
              "        document.querySelector('#df-d511c379-1abb-42fc-be72-a5f75bd073a7 button.colab-df-convert');\n",
              "      buttonEl.style.display =\n",
              "        google.colab.kernel.accessAllowed ? 'block' : 'none';\n",
              "\n",
              "      async function convertToInteractive(key) {\n",
              "        const element = document.querySelector('#df-d511c379-1abb-42fc-be72-a5f75bd073a7');\n",
              "        const dataTable =\n",
              "          await google.colab.kernel.invokeFunction('convertToInteractive',\n",
              "                                                    [key], {});\n",
              "        if (!dataTable) return;\n",
              "\n",
              "        const docLinkHtml = 'Like what you see? Visit the ' +\n",
              "          '<a target=\"_blank\" href=https://colab.research.google.com/notebooks/data_table.ipynb>data table notebook</a>'\n",
              "          + ' to learn more about interactive tables.';\n",
              "        element.innerHTML = '';\n",
              "        dataTable['output_type'] = 'display_data';\n",
              "        await google.colab.output.renderOutput(dataTable, element);\n",
              "        const docLink = document.createElement('div');\n",
              "        docLink.innerHTML = docLinkHtml;\n",
              "        element.appendChild(docLink);\n",
              "      }\n",
              "    </script>\n",
              "  </div>\n",
              "\n",
              "\n",
              "<div id=\"df-aa29d5fa-ddd5-4d13-94ba-ea5873a774cd\">\n",
              "  <button class=\"colab-df-quickchart\" onclick=\"quickchart('df-aa29d5fa-ddd5-4d13-94ba-ea5873a774cd')\"\n",
              "            title=\"Suggest charts\"\n",
              "            style=\"display:none;\">\n",
              "\n",
              "<svg xmlns=\"http://www.w3.org/2000/svg\" height=\"24px\"viewBox=\"0 0 24 24\"\n",
              "     width=\"24px\">\n",
              "    <g>\n",
              "        <path d=\"M19 3H5c-1.1 0-2 .9-2 2v14c0 1.1.9 2 2 2h14c1.1 0 2-.9 2-2V5c0-1.1-.9-2-2-2zM9 17H7v-7h2v7zm4 0h-2V7h2v10zm4 0h-2v-4h2v4z\"/>\n",
              "    </g>\n",
              "</svg>\n",
              "  </button>\n",
              "\n",
              "<style>\n",
              "  .colab-df-quickchart {\n",
              "      --bg-color: #E8F0FE;\n",
              "      --fill-color: #1967D2;\n",
              "      --hover-bg-color: #E2EBFA;\n",
              "      --hover-fill-color: #174EA6;\n",
              "      --disabled-fill-color: #AAA;\n",
              "      --disabled-bg-color: #DDD;\n",
              "  }\n",
              "\n",
              "  [theme=dark] .colab-df-quickchart {\n",
              "      --bg-color: #3B4455;\n",
              "      --fill-color: #D2E3FC;\n",
              "      --hover-bg-color: #434B5C;\n",
              "      --hover-fill-color: #FFFFFF;\n",
              "      --disabled-bg-color: #3B4455;\n",
              "      --disabled-fill-color: #666;\n",
              "  }\n",
              "\n",
              "  .colab-df-quickchart {\n",
              "    background-color: var(--bg-color);\n",
              "    border: none;\n",
              "    border-radius: 50%;\n",
              "    cursor: pointer;\n",
              "    display: none;\n",
              "    fill: var(--fill-color);\n",
              "    height: 32px;\n",
              "    padding: 0;\n",
              "    width: 32px;\n",
              "  }\n",
              "\n",
              "  .colab-df-quickchart:hover {\n",
              "    background-color: var(--hover-bg-color);\n",
              "    box-shadow: 0 1px 2px rgba(60, 64, 67, 0.3), 0 1px 3px 1px rgba(60, 64, 67, 0.15);\n",
              "    fill: var(--button-hover-fill-color);\n",
              "  }\n",
              "\n",
              "  .colab-df-quickchart-complete:disabled,\n",
              "  .colab-df-quickchart-complete:disabled:hover {\n",
              "    background-color: var(--disabled-bg-color);\n",
              "    fill: var(--disabled-fill-color);\n",
              "    box-shadow: none;\n",
              "  }\n",
              "\n",
              "  .colab-df-spinner {\n",
              "    border: 2px solid var(--fill-color);\n",
              "    border-color: transparent;\n",
              "    border-bottom-color: var(--fill-color);\n",
              "    animation:\n",
              "      spin 1s steps(1) infinite;\n",
              "  }\n",
              "\n",
              "  @keyframes spin {\n",
              "    0% {\n",
              "      border-color: transparent;\n",
              "      border-bottom-color: var(--fill-color);\n",
              "      border-left-color: var(--fill-color);\n",
              "    }\n",
              "    20% {\n",
              "      border-color: transparent;\n",
              "      border-left-color: var(--fill-color);\n",
              "      border-top-color: var(--fill-color);\n",
              "    }\n",
              "    30% {\n",
              "      border-color: transparent;\n",
              "      border-left-color: var(--fill-color);\n",
              "      border-top-color: var(--fill-color);\n",
              "      border-right-color: var(--fill-color);\n",
              "    }\n",
              "    40% {\n",
              "      border-color: transparent;\n",
              "      border-right-color: var(--fill-color);\n",
              "      border-top-color: var(--fill-color);\n",
              "    }\n",
              "    60% {\n",
              "      border-color: transparent;\n",
              "      border-right-color: var(--fill-color);\n",
              "    }\n",
              "    80% {\n",
              "      border-color: transparent;\n",
              "      border-right-color: var(--fill-color);\n",
              "      border-bottom-color: var(--fill-color);\n",
              "    }\n",
              "    90% {\n",
              "      border-color: transparent;\n",
              "      border-bottom-color: var(--fill-color);\n",
              "    }\n",
              "  }\n",
              "</style>\n",
              "\n",
              "  <script>\n",
              "    async function quickchart(key) {\n",
              "      const quickchartButtonEl =\n",
              "        document.querySelector('#' + key + ' button');\n",
              "      quickchartButtonEl.disabled = true;  // To prevent multiple clicks.\n",
              "      quickchartButtonEl.classList.add('colab-df-spinner');\n",
              "      try {\n",
              "        const charts = await google.colab.kernel.invokeFunction(\n",
              "            'suggestCharts', [key], {});\n",
              "      } catch (error) {\n",
              "        console.error('Error during call to suggestCharts:', error);\n",
              "      }\n",
              "      quickchartButtonEl.classList.remove('colab-df-spinner');\n",
              "      quickchartButtonEl.classList.add('colab-df-quickchart-complete');\n",
              "    }\n",
              "    (() => {\n",
              "      let quickchartButtonEl =\n",
              "        document.querySelector('#df-aa29d5fa-ddd5-4d13-94ba-ea5873a774cd button');\n",
              "      quickchartButtonEl.style.display =\n",
              "        google.colab.kernel.accessAllowed ? 'block' : 'none';\n",
              "    })();\n",
              "  </script>\n",
              "</div>\n",
              "\n",
              "    </div>\n",
              "  </div>\n"
            ]
          },
          "metadata": {},
          "execution_count": 207
        }
      ]
    },
    {
      "cell_type": "markdown",
      "source": [
        "# **Lowercasing the text**"
      ],
      "metadata": {
        "id": "sKslEx1Q-r99"
      }
    },
    {
      "cell_type": "code",
      "source": [
        "# for string\n",
        "\n",
        "text = \"HEllo HoW aRe YOu, i aM KuSHAL bAdAL\"\n",
        "print(text.lower())"
      ],
      "metadata": {
        "colab": {
          "base_uri": "https://localhost:8080/"
        },
        "id": "B7PeqI6J-vqW",
        "outputId": "d0a9bd00-40cd-44f6-e072-032b3838196e"
      },
      "execution_count": 208,
      "outputs": [
        {
          "output_type": "stream",
          "name": "stdout",
          "text": [
            "hello how are you, i am kushal badal\n"
          ]
        }
      ]
    },
    {
      "cell_type": "code",
      "source": [
        "# for data set\n",
        "\n",
        "df['tweet'] = df['tweet'].str.lower()"
      ],
      "metadata": {
        "id": "lWwueWqY_A5t"
      },
      "execution_count": 209,
      "outputs": []
    },
    {
      "cell_type": "code",
      "source": [
        "df['tweet']"
      ],
      "metadata": {
        "colab": {
          "base_uri": "https://localhost:8080/"
        },
        "id": "RhwRi_IL_Rr9",
        "outputId": "ddce34d7-c1ce-4758-ce5f-32d44708279a"
      },
      "execution_count": 210,
      "outputs": [
        {
          "output_type": "execute_result",
          "data": {
            "text/plain": [
              "0        !!! rt @mayasolovely: as a woman you shouldn't...\n",
              "1        !!!!! rt @mleew17: boy dats cold...tyga dwn ba...\n",
              "2        !!!!!!! rt @urkindofbrand dawg!!!! rt @80sbaby...\n",
              "3        !!!!!!!!! rt @c_g_anderson: @viva_based she lo...\n",
              "4        !!!!!!!!!!!!! rt @shenikaroberts: the shit you...\n",
              "                               ...                        \n",
              "24778    you's a muthaf***in lie &#8220;@lifeasking: @2...\n",
              "24779    you've gone and broke the wrong heart baby, an...\n",
              "24780    young buck wanna eat!!.. dat nigguh like i ain...\n",
              "24781                youu got wild bitches tellin you lies\n",
              "24782    ~~ruffled | ntac eileen dahlia - beautiful col...\n",
              "Name: tweet, Length: 24783, dtype: object"
            ]
          },
          "metadata": {},
          "execution_count": 210
        }
      ]
    },
    {
      "cell_type": "markdown",
      "source": [
        "# **removing numbers/digits**"
      ],
      "metadata": {
        "id": "sSOZbRhD_fNC"
      }
    },
    {
      "cell_type": "code",
      "source": [
        "# for text\n",
        "\n",
        "import re\n",
        "\n",
        "text = \"Hello 00how are7 you13\"\n",
        "cleaned_text = re.sub(r'\\d', \" \", text)\n",
        "print(cleaned_text)\n",
        "\n"
      ],
      "metadata": {
        "colab": {
          "base_uri": "https://localhost:8080/"
        },
        "id": "570UB0NW_Xfi",
        "outputId": "b1fa8b29-ad08-4cd1-cfe3-12ddfd842010"
      },
      "execution_count": 211,
      "outputs": [
        {
          "output_type": "stream",
          "name": "stdout",
          "text": [
            "Hello   how are  you  \n"
          ]
        }
      ]
    },
    {
      "cell_type": "code",
      "source": [
        "# for df\n",
        "\n",
        "df['tweet'] = df['tweet'].apply(lambda x: re.sub(r'\\d','', x))"
      ],
      "metadata": {
        "id": "5LtFLUSK_5x0"
      },
      "execution_count": 212,
      "outputs": []
    },
    {
      "cell_type": "code",
      "source": [
        "df['tweet']"
      ],
      "metadata": {
        "colab": {
          "base_uri": "https://localhost:8080/"
        },
        "id": "jMz-FaCKAQ21",
        "outputId": "58607d0e-d89a-4fdf-b346-49b113f2e5e7"
      },
      "execution_count": 213,
      "outputs": [
        {
          "output_type": "execute_result",
          "data": {
            "text/plain": [
              "0        !!! rt @mayasolovely: as a woman you shouldn't...\n",
              "1        !!!!! rt @mleew: boy dats cold...tyga dwn bad ...\n",
              "2        !!!!!!! rt @urkindofbrand dawg!!!! rt @sbabyli...\n",
              "3        !!!!!!!!! rt @c_g_anderson: @viva_based she lo...\n",
              "4        !!!!!!!!!!!!! rt @shenikaroberts: the shit you...\n",
              "                               ...                        \n",
              "24778    you's a muthaf***in lie &#;@lifeasking: @_pear...\n",
              "24779    you've gone and broke the wrong heart baby, an...\n",
              "24780    young buck wanna eat!!.. dat nigguh like i ain...\n",
              "24781                youu got wild bitches tellin you lies\n",
              "24782    ~~ruffled | ntac eileen dahlia - beautiful col...\n",
              "Name: tweet, Length: 24783, dtype: object"
            ]
          },
          "metadata": {},
          "execution_count": 213
        }
      ]
    },
    {
      "cell_type": "markdown",
      "source": [
        "# removing **punctuations**"
      ],
      "metadata": {
        "id": "pf1TR6OJAXNW"
      }
    },
    {
      "cell_type": "code",
      "source": [
        "# for text\n",
        "\n",
        "text = \" 99!@Kush badal%68d Co[cpiter] scientish!~!!\"\n",
        "\n",
        "cleaned_text = re.sub(r'[^\\w\\s]', \"\", text)"
      ],
      "metadata": {
        "id": "_Y2cCcl_ATqT"
      },
      "execution_count": 214,
      "outputs": []
    },
    {
      "cell_type": "code",
      "source": [
        "# for df\n",
        "\n",
        "df['tweet'] = df['tweet'].apply(lambda x: re.sub(r'[^\\w\\d]', ' ', x))"
      ],
      "metadata": {
        "id": "2A78UEKUBCk3"
      },
      "execution_count": 215,
      "outputs": []
    },
    {
      "cell_type": "code",
      "source": [
        "df['tweet']"
      ],
      "metadata": {
        "colab": {
          "base_uri": "https://localhost:8080/"
        },
        "id": "ercAOp9mB3K7",
        "outputId": "f9e1ed09-d036-4bf3-e994-7024736c6552"
      },
      "execution_count": 216,
      "outputs": [
        {
          "output_type": "execute_result",
          "data": {
            "text/plain": [
              "0            rt  mayasolovely  as a woman you shouldn t...\n",
              "1              rt  mleew  boy dats cold   tyga dwn bad ...\n",
              "2                rt  urkindofbrand dawg     rt  sbabyli...\n",
              "3                  rt  c_g_anderson   viva_based she lo...\n",
              "4                      rt  shenikaroberts  the shit you...\n",
              "                               ...                        \n",
              "24778    you s a muthaf   in lie     lifeasking   _pear...\n",
              "24779    you ve gone and broke the wrong heart baby  an...\n",
              "24780    young buck wanna eat     dat nigguh like i ain...\n",
              "24781                youu got wild bitches tellin you lies\n",
              "24782      ruffled   ntac eileen dahlia   beautiful col...\n",
              "Name: tweet, Length: 24783, dtype: object"
            ]
          },
          "metadata": {},
          "execution_count": 216
        }
      ]
    },
    {
      "cell_type": "markdown",
      "source": [
        "# removing first \"rt\" stands for retweet which make complex to read a **word**"
      ],
      "metadata": {
        "id": "RsY7mS4SB_VX"
      }
    },
    {
      "cell_type": "code",
      "source": [
        "# for df\n",
        "\n",
        "df['tweet'] = df['tweet'].apply(lambda x : re.sub(r'^(RT|rt)', ' ', x))"
      ],
      "metadata": {
        "id": "eJ05jFKKB6D-"
      },
      "execution_count": 217,
      "outputs": []
    },
    {
      "cell_type": "code",
      "source": [
        "df['tweet']"
      ],
      "metadata": {
        "colab": {
          "base_uri": "https://localhost:8080/"
        },
        "id": "sEnAaG9-CttT",
        "outputId": "276adaa9-209f-4f7f-d096-d2a93e5dd0b1"
      },
      "execution_count": 218,
      "outputs": [
        {
          "output_type": "execute_result",
          "data": {
            "text/plain": [
              "0            rt  mayasolovely  as a woman you shouldn t...\n",
              "1              rt  mleew  boy dats cold   tyga dwn bad ...\n",
              "2                rt  urkindofbrand dawg     rt  sbabyli...\n",
              "3                  rt  c_g_anderson   viva_based she lo...\n",
              "4                      rt  shenikaroberts  the shit you...\n",
              "                               ...                        \n",
              "24778    you s a muthaf   in lie     lifeasking   _pear...\n",
              "24779    you ve gone and broke the wrong heart baby  an...\n",
              "24780    young buck wanna eat     dat nigguh like i ain...\n",
              "24781                youu got wild bitches tellin you lies\n",
              "24782      ruffled   ntac eileen dahlia   beautiful col...\n",
              "Name: tweet, Length: 24783, dtype: object"
            ]
          },
          "metadata": {},
          "execution_count": 218
        }
      ]
    },
    {
      "cell_type": "markdown",
      "source": [
        "# stop word **removing**"
      ],
      "metadata": {
        "id": "Y-y6ADMBDzhQ"
      }
    },
    {
      "cell_type": "code",
      "source": [
        "from nltk.corpus import stopwords\n",
        "import nltk\n",
        "nltk.download('stopwords')\n",
        "\n",
        "text = \"This is a sample text containing some common English stopwords. It includes words such as 'the', 'is', 'and', 'with', 'some', and 'a'. The goal is to remove these stopwords from the text.\"\n",
        "\n",
        "def remove_stopwords(text):\n",
        "    stop_words = set(stopwords.words('english'))\n",
        "    words = text.split()\n",
        "    filtered_words = [word for word in words if word.lower() not in stop_words]\n",
        "    return ' '.join(filtered_words)\n",
        "\n",
        "print(remove_stopwords(text))\n",
        "\n",
        "# for df\n",
        "\n",
        "df['tweet'] = df['tweet'].apply(remove_stopwords)"
      ],
      "metadata": {
        "colab": {
          "base_uri": "https://localhost:8080/"
        },
        "id": "LrMpeBcED5Q0",
        "outputId": "e49934ac-a954-4552-f52e-7024a38f84e2"
      },
      "execution_count": 219,
      "outputs": [
        {
          "output_type": "stream",
          "name": "stderr",
          "text": [
            "[nltk_data] Downloading package stopwords to /root/nltk_data...\n",
            "[nltk_data]   Package stopwords is already up-to-date!\n"
          ]
        },
        {
          "output_type": "stream",
          "name": "stdout",
          "text": [
            "sample text containing common English stopwords. includes words 'the', 'is', 'and', 'with', 'some', 'a'. goal remove stopwords text.\n"
          ]
        }
      ]
    },
    {
      "cell_type": "code",
      "source": [
        "df['tweet'][121]"
      ],
      "metadata": {
        "colab": {
          "base_uri": "https://localhost:8080/",
          "height": 35
        },
        "id": "Afo6xr9GCxPp",
        "outputId": "3e94580c-ad24-4f5b-8fde-32eea100aa06"
      },
      "execution_count": 220,
      "outputs": [
        {
          "output_type": "execute_result",
          "data": {
            "text/plain": [
              "'ferocious_ghost stname_bravo aw fag tweet aw lol'"
            ],
            "application/vnd.google.colaboratory.intrinsic+json": {
              "type": "string"
            }
          },
          "metadata": {},
          "execution_count": 220
        }
      ]
    },
    {
      "cell_type": "markdown",
      "source": [
        "# **spelling correction**"
      ],
      "metadata": {
        "id": "04zBLiDLIDqN"
      }
    },
    {
      "cell_type": "code",
      "source": [
        "pip install autocorrect\n"
      ],
      "metadata": {
        "colab": {
          "base_uri": "https://localhost:8080/"
        },
        "id": "hfRAtiLzM_Fm",
        "outputId": "9704a2b4-d047-42a0-a022-6e2cd1857688"
      },
      "execution_count": 221,
      "outputs": [
        {
          "output_type": "stream",
          "name": "stdout",
          "text": [
            "Requirement already satisfied: autocorrect in /usr/local/lib/python3.10/dist-packages (2.6.1)\n"
          ]
        }
      ]
    },
    {
      "cell_type": "code",
      "source": [
        "from autocorrect import Speller\n",
        "import pandas as pd\n",
        "\n",
        "spell = Speller(lang='en')\n"
      ],
      "metadata": {
        "id": "N-SRpAXyKO6t"
      },
      "execution_count": 222,
      "outputs": []
    },
    {
      "cell_type": "code",
      "source": [
        "df['tweet']"
      ],
      "metadata": {
        "colab": {
          "base_uri": "https://localhost:8080/"
        },
        "id": "4kRS_6SVKt2m",
        "outputId": "0caa82af-9287-490e-e781-4b63c0859173"
      },
      "execution_count": 223,
      "outputs": [
        {
          "output_type": "execute_result",
          "data": {
            "text/plain": [
              "0        rt mayasolovely woman complain cleaning house ...\n",
              "1        rt mleew boy dats cold tyga dwn bad cuffin dat...\n",
              "2        rt urkindofbrand dawg rt sbabylife ever fuck b...\n",
              "3              rt c_g_anderson viva_based look like tranny\n",
              "4        rt shenikaroberts shit hear might true might f...\n",
              "                               ...                        \n",
              "24778    muthaf lie lifeasking _pearls corey_emanuel ri...\n",
              "24779      gone broke wrong heart baby drove redneck crazy\n",
              "24780    young buck wanna eat dat nigguh like aint fuck...\n",
              "24781                    youu got wild bitches tellin lies\n",
              "24782    ruffled ntac eileen dahlia beautiful color com...\n",
              "Name: tweet, Length: 24783, dtype: object"
            ]
          },
          "metadata": {},
          "execution_count": 223
        }
      ]
    },
    {
      "cell_type": "markdown",
      "source": [
        "# **Word Stemming**\n"
      ],
      "metadata": {
        "id": "UWgb-WphlUlG"
      }
    },
    {
      "cell_type": "code",
      "source": [
        "# for text\n",
        "from nltk.stem import PorterStemmer\n",
        "\n",
        "def stem(text):\n",
        "  stemmer = PorterStemmer()\n",
        "  stemmed_text = \" \".join([stemmer.stem(word) for word in text.split()])\n",
        "  return stemmed_text\n",
        "\n",
        "df['tweet'] = df['tweet'].apply(stem)\n"
      ],
      "metadata": {
        "id": "JQvhfazhmoka"
      },
      "execution_count": 224,
      "outputs": []
    },
    {
      "cell_type": "code",
      "source": [
        "df['tweet']"
      ],
      "metadata": {
        "colab": {
          "base_uri": "https://localhost:8080/"
        },
        "id": "t9SLTszRnZR-",
        "outputId": "27791c36-03fe-4822-a3fa-1c13fceed3cc"
      },
      "execution_count": 225,
      "outputs": [
        {
          "output_type": "execute_result",
          "data": {
            "text/plain": [
              "0        rt mayasolov woman complain clean hous amp man...\n",
              "1        rt mleew boy dat cold tyga dwn bad cuffin dat ...\n",
              "2        rt urkindofbrand dawg rt sbabylif ever fuck bi...\n",
              "3                rt c_g_anderson viva_bas look like tranni\n",
              "4        rt shenikarobert shit hear might true might fa...\n",
              "                               ...                        \n",
              "24778    muthaf lie lifeask _pearl corey_emanuel right ...\n",
              "24779      gone broke wrong heart babi drove redneck crazi\n",
              "24780    young buck wanna eat dat nigguh like aint fuck...\n",
              "24781                       youu got wild bitch tellin lie\n",
              "24782    ruffl ntac eileen dahlia beauti color combin p...\n",
              "Name: tweet, Length: 24783, dtype: object"
            ]
          },
          "metadata": {},
          "execution_count": 225
        }
      ]
    },
    {
      "cell_type": "markdown",
      "source": [
        "# Word **Tokeniztion**"
      ],
      "metadata": {
        "id": "zUQqyZkwpSp4"
      }
    },
    {
      "cell_type": "code",
      "source": [
        "from nltk.tokenize import word_tokenize\n",
        "nltk.download('punkt')\n",
        "def token(text):\n",
        "  return word_tokenize(text)\n",
        "\n",
        "df['tweet'] = df['tweet'].apply(token)"
      ],
      "metadata": {
        "colab": {
          "base_uri": "https://localhost:8080/"
        },
        "id": "Om6TqeCPo6fW",
        "outputId": "087fadf5-344c-4123-e555-c7d9a55fbdb1"
      },
      "execution_count": 226,
      "outputs": [
        {
          "output_type": "stream",
          "name": "stderr",
          "text": [
            "[nltk_data] Downloading package punkt to /root/nltk_data...\n",
            "[nltk_data]   Package punkt is already up-to-date!\n"
          ]
        }
      ]
    },
    {
      "cell_type": "code",
      "source": [
        "df['tweet']"
      ],
      "metadata": {
        "colab": {
          "base_uri": "https://localhost:8080/"
        },
        "id": "FZuWJ1PFq5mB",
        "outputId": "105f9f17-d0e9-4b51-8baa-1b95bc28587e"
      },
      "execution_count": 227,
      "outputs": [
        {
          "output_type": "execute_result",
          "data": {
            "text/plain": [
              "0        [rt, mayasolov, woman, complain, clean, hous, ...\n",
              "1        [rt, mleew, boy, dat, cold, tyga, dwn, bad, cu...\n",
              "2        [rt, urkindofbrand, dawg, rt, sbabylif, ever, ...\n",
              "3         [rt, c_g_anderson, viva_bas, look, like, tranni]\n",
              "4        [rt, shenikarobert, shit, hear, might, true, m...\n",
              "                               ...                        \n",
              "24778    [muthaf, lie, lifeask, _pearl, corey_emanuel, ...\n",
              "24779    [gone, broke, wrong, heart, babi, drove, redne...\n",
              "24780    [young, buck, wan, na, eat, dat, nigguh, like,...\n",
              "24781                [youu, got, wild, bitch, tellin, lie]\n",
              "24782    [ruffl, ntac, eileen, dahlia, beauti, color, c...\n",
              "Name: tweet, Length: 24783, dtype: object"
            ]
          },
          "metadata": {},
          "execution_count": 227
        }
      ]
    },
    {
      "cell_type": "code",
      "source": [],
      "metadata": {
        "id": "bol1v886reeS"
      },
      "execution_count": 227,
      "outputs": []
    }
  ]
}